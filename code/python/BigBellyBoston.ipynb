{
 "cells": [
  {
   "cell_type": "markdown",
   "metadata": {},
   "source": [
    "# BigBelly Boston data preparation for visualization\n",
    "\n",
    "I will be using Bigbelly sensor [dataset](https://data.cityofboston.gov/City-Services/Big-Belly-Alerts-2014/vwyk-mq9z ) to create a visualization dashboard in d3.js."
   ]
  },
  {
   "cell_type": "code",
   "execution_count": 1,
   "metadata": {
    "collapsed": true
   },
   "outputs": [],
   "source": [
    "import pandas as pd\n",
    "import datetime\n",
    "import numpy as np"
   ]
  },
  {
   "cell_type": "markdown",
   "metadata": {},
   "source": [
    "## Import data and parse dates"
   ]
  },
  {
   "cell_type": "code",
   "execution_count": 5,
   "metadata": {
    "collapsed": true
   },
   "outputs": [],
   "source": [
    "datetimeParser = lambda x: datetime.datetime.strptime(x, '%m/%d/%y %H:%M')\n",
    "df = pd.read_csv('../../data/Big_Belly_Alerts_2014.csv', parse_dates=['timestamp'], \n",
    "                 date_parser=datetimeParser)"
   ]
  },
  {
   "cell_type": "code",
   "execution_count": 6,
   "metadata": {
    "collapsed": false
   },
   "outputs": [
    {
     "data": {
      "text/html": [
       "<div style=\"max-height:1000px;max-width:1500px;overflow:auto;\">\n",
       "<table border=\"1\" class=\"dataframe\">\n",
       "  <thead>\n",
       "    <tr style=\"text-align: right;\">\n",
       "      <th></th>\n",
       "      <th>description</th>\n",
       "      <th>timestamp</th>\n",
       "      <th>fullness</th>\n",
       "      <th>collection</th>\n",
       "      <th>Latitude</th>\n",
       "      <th>Longitude</th>\n",
       "    </tr>\n",
       "  </thead>\n",
       "  <tbody>\n",
       "    <tr>\n",
       "      <th>51435</th>\n",
       "      <td>Cambridge and Blosom St (Au Bon Pain)</td>\n",
       "      <td>2014-12-31 21:38:00</td>\n",
       "      <td>YELLOW</td>\n",
       "      <td>False</td>\n",
       "      <td>42.361276</td>\n",
       "      <td>-71.066578</td>\n",
       "    </tr>\n",
       "    <tr>\n",
       "      <th>51436</th>\n",
       "      <td>1309 Boylston Street</td>\n",
       "      <td>2014-12-31 22:57:00</td>\n",
       "      <td>YELLOW</td>\n",
       "      <td>False</td>\n",
       "      <td>42.344205</td>\n",
       "      <td>-71.099219</td>\n",
       "    </tr>\n",
       "    <tr>\n",
       "      <th>51437</th>\n",
       "      <td>74 Berklee</td>\n",
       "      <td>2014-12-31 23:32:00</td>\n",
       "      <td>RED</td>\n",
       "      <td>False</td>\n",
       "      <td>42.344300</td>\n",
       "      <td>-71.067000</td>\n",
       "    </tr>\n",
       "    <tr>\n",
       "      <th>51438</th>\n",
       "      <td>Commons: East of Frog Pond</td>\n",
       "      <td>2014-12-31 23:50:00</td>\n",
       "      <td>YELLOW</td>\n",
       "      <td>False</td>\n",
       "      <td>42.356053</td>\n",
       "      <td>-71.064870</td>\n",
       "    </tr>\n",
       "    <tr>\n",
       "      <th>51439</th>\n",
       "      <td>Tremont 30th and Avery St (Loews Theatre)</td>\n",
       "      <td>2014-12-31 23:55:00</td>\n",
       "      <td>RED</td>\n",
       "      <td>False</td>\n",
       "      <td>42.353287</td>\n",
       "      <td>-71.064182</td>\n",
       "    </tr>\n",
       "  </tbody>\n",
       "</table>\n",
       "</div>"
      ],
      "text/plain": [
       "                                     description           timestamp fullness  \\\n",
       "51435      Cambridge and Blosom St (Au Bon Pain) 2014-12-31 21:38:00   YELLOW   \n",
       "51436                       1309 Boylston Street 2014-12-31 22:57:00   YELLOW   \n",
       "51437                                 74 Berklee 2014-12-31 23:32:00      RED   \n",
       "51438                 Commons: East of Frog Pond 2014-12-31 23:50:00   YELLOW   \n",
       "51439  Tremont 30th and Avery St (Loews Theatre) 2014-12-31 23:55:00      RED   \n",
       "\n",
       "      collection   Latitude  Longitude  \n",
       "51435      False  42.361276 -71.066578  \n",
       "51436      False  42.344205 -71.099219  \n",
       "51437      False  42.344300 -71.067000  \n",
       "51438      False  42.356053 -71.064870  \n",
       "51439      False  42.353287 -71.064182  "
      ]
     },
     "execution_count": 6,
     "metadata": {},
     "output_type": "execute_result"
    }
   ],
   "source": [
    "df.tail()"
   ]
  },
  {
   "cell_type": "markdown",
   "metadata": {},
   "source": [
    "Add 'dayofweek' and 'month' column."
   ]
  },
  {
   "cell_type": "code",
   "execution_count": 11,
   "metadata": {
    "collapsed": false
   },
   "outputs": [],
   "source": [
    "dayOfWeekParser = lambda x: x.weekday()\n",
    "monthParser = lambda x: x.month\n",
    "df['dayofweek'] = df['timestamp'].map(dayOfWeekParser)\n",
    "df['month'] = df['timestamp'].map(monthParser)"
   ]
  },
  {
   "cell_type": "code",
   "execution_count": 12,
   "metadata": {
    "collapsed": false
   },
   "outputs": [
    {
     "data": {
      "text/html": [
       "<div style=\"max-height:1000px;max-width:1500px;overflow:auto;\">\n",
       "<table border=\"1\" class=\"dataframe\">\n",
       "  <thead>\n",
       "    <tr style=\"text-align: right;\">\n",
       "      <th></th>\n",
       "      <th>description</th>\n",
       "      <th>timestamp</th>\n",
       "      <th>fullness</th>\n",
       "      <th>collection</th>\n",
       "      <th>Latitude</th>\n",
       "      <th>Longitude</th>\n",
       "      <th>dayofweek</th>\n",
       "      <th>month</th>\n",
       "    </tr>\n",
       "  </thead>\n",
       "  <tbody>\n",
       "    <tr>\n",
       "      <th>0</th>\n",
       "      <td>Atlantic &amp; Milk</td>\n",
       "      <td>2014-01-01 00:41:00</td>\n",
       "      <td>YELLOW</td>\n",
       "      <td>False</td>\n",
       "      <td>42.358701</td>\n",
       "      <td>-71.051439</td>\n",
       "      <td>2</td>\n",
       "      <td>1</td>\n",
       "    </tr>\n",
       "    <tr>\n",
       "      <th>1</th>\n",
       "      <td>1330 Boylston @ Jersey Street</td>\n",
       "      <td>2014-01-01 01:19:00</td>\n",
       "      <td>YELLOW</td>\n",
       "      <td>False</td>\n",
       "      <td>42.344566</td>\n",
       "      <td>-71.097831</td>\n",
       "      <td>2</td>\n",
       "      <td>1</td>\n",
       "    </tr>\n",
       "    <tr>\n",
       "      <th>2</th>\n",
       "      <td>SE Brookline &amp; Newbury (opp Popeyes chicken)</td>\n",
       "      <td>2014-01-01 01:32:00</td>\n",
       "      <td>YELLOW</td>\n",
       "      <td>False</td>\n",
       "      <td>42.348182</td>\n",
       "      <td>-71.097445</td>\n",
       "      <td>2</td>\n",
       "      <td>1</td>\n",
       "    </tr>\n",
       "    <tr>\n",
       "      <th>3</th>\n",
       "      <td>SE Brookline &amp; Newbury (opp Popeyes chicken)</td>\n",
       "      <td>2014-01-01 01:34:00</td>\n",
       "      <td>RED</td>\n",
       "      <td>False</td>\n",
       "      <td>42.348182</td>\n",
       "      <td>-71.097445</td>\n",
       "      <td>2</td>\n",
       "      <td>1</td>\n",
       "    </tr>\n",
       "    <tr>\n",
       "      <th>4</th>\n",
       "      <td>Huntington and Dartmouth St (Library)</td>\n",
       "      <td>2014-01-01 02:10:00</td>\n",
       "      <td>GREEN</td>\n",
       "      <td>True</td>\n",
       "      <td>42.349327</td>\n",
       "      <td>-71.077018</td>\n",
       "      <td>2</td>\n",
       "      <td>1</td>\n",
       "    </tr>\n",
       "  </tbody>\n",
       "</table>\n",
       "</div>"
      ],
      "text/plain": [
       "                                    description           timestamp fullness  \\\n",
       "0                               Atlantic & Milk 2014-01-01 00:41:00   YELLOW   \n",
       "1                 1330 Boylston @ Jersey Street 2014-01-01 01:19:00   YELLOW   \n",
       "2  SE Brookline & Newbury (opp Popeyes chicken) 2014-01-01 01:32:00   YELLOW   \n",
       "3  SE Brookline & Newbury (opp Popeyes chicken) 2014-01-01 01:34:00      RED   \n",
       "4         Huntington and Dartmouth St (Library) 2014-01-01 02:10:00    GREEN   \n",
       "\n",
       "  collection   Latitude  Longitude  dayofweek  month  \n",
       "0      False  42.358701 -71.051439          2      1  \n",
       "1      False  42.344566 -71.097831          2      1  \n",
       "2      False  42.348182 -71.097445          2      1  \n",
       "3      False  42.348182 -71.097445          2      1  \n",
       "4       True  42.349327 -71.077018          2      1  "
      ]
     },
     "execution_count": 12,
     "metadata": {},
     "output_type": "execute_result"
    }
   ],
   "source": [
    "df.head()"
   ]
  },
  {
   "cell_type": "code",
   "execution_count": 32,
   "metadata": {
    "collapsed": true
   },
   "outputs": [],
   "source": [
    "# Group by day of week\n",
    "dfGroupedByDay = df.groupby('dayofweek')"
   ]
  },
  {
   "cell_type": "code",
   "execution_count": 33,
   "metadata": {
    "collapsed": false
   },
   "outputs": [],
   "source": [
    "# Get alert counts by day\n",
    "fullnessByDay = dfGroupedByDay['fullness'].value_counts().unstack().fillna(0.)"
   ]
  },
  {
   "cell_type": "code",
   "execution_count": 24,
   "metadata": {
    "collapsed": false
   },
   "outputs": [],
   "source": [
    "# Group by month and get alert counts by month\n",
    "dfGroupedByMonth = df.groupby('month')\n",
    "fullnessByMonth = dfGroupedByMonth['fullness'].value_counts().unstack().fillna(0.)"
   ]
  },
  {
   "cell_type": "code",
   "execution_count": 25,
   "metadata": {
    "collapsed": false
   },
   "outputs": [
    {
     "data": {
      "text/html": [
       "<div style=\"max-height:1000px;max-width:1500px;overflow:auto;\">\n",
       "<table border=\"1\" class=\"dataframe\">\n",
       "  <thead>\n",
       "    <tr style=\"text-align: right;\">\n",
       "      <th></th>\n",
       "      <th>GREEN</th>\n",
       "      <th>YELLOW</th>\n",
       "      <th>RED</th>\n",
       "    </tr>\n",
       "    <tr>\n",
       "      <th>month</th>\n",
       "      <th></th>\n",
       "      <th></th>\n",
       "      <th></th>\n",
       "    </tr>\n",
       "  </thead>\n",
       "  <tbody>\n",
       "    <tr>\n",
       "      <th>1</th>\n",
       "      <td>1246</td>\n",
       "      <td>1109</td>\n",
       "      <td>532</td>\n",
       "    </tr>\n",
       "    <tr>\n",
       "      <th>2</th>\n",
       "      <td>1047</td>\n",
       "      <td>925</td>\n",
       "      <td>485</td>\n",
       "    </tr>\n",
       "    <tr>\n",
       "      <th>3</th>\n",
       "      <td>1529</td>\n",
       "      <td>1291</td>\n",
       "      <td>533</td>\n",
       "    </tr>\n",
       "    <tr>\n",
       "      <th>4</th>\n",
       "      <td>1722</td>\n",
       "      <td>1463</td>\n",
       "      <td>612</td>\n",
       "    </tr>\n",
       "    <tr>\n",
       "      <th>5</th>\n",
       "      <td>2036</td>\n",
       "      <td>1811</td>\n",
       "      <td>624</td>\n",
       "    </tr>\n",
       "  </tbody>\n",
       "</table>\n",
       "</div>"
      ],
      "text/plain": [
       "       GREEN  YELLOW  RED\n",
       "month                    \n",
       "1       1246    1109  532\n",
       "2       1047     925  485\n",
       "3       1529    1291  533\n",
       "4       1722    1463  612\n",
       "5       2036    1811  624"
      ]
     },
     "execution_count": 25,
     "metadata": {},
     "output_type": "execute_result"
    }
   ],
   "source": [
    "fullnessByMonth.head()"
   ]
  },
  {
   "cell_type": "code",
   "execution_count": 27,
   "metadata": {
    "collapsed": false
   },
   "outputs": [],
   "source": [
    "# Get trash collection count by day\n",
    "collByDay = dfGroupedByDay['collection'].value_counts().unstack().fillna(0.)"
   ]
  },
  {
   "cell_type": "code",
   "execution_count": 28,
   "metadata": {
    "collapsed": false
   },
   "outputs": [
    {
     "data": {
      "text/html": [
       "<div style=\"max-height:1000px;max-width:1500px;overflow:auto;\">\n",
       "<table border=\"1\" class=\"dataframe\">\n",
       "  <thead>\n",
       "    <tr style=\"text-align: right;\">\n",
       "      <th></th>\n",
       "      <th>False</th>\n",
       "      <th>True</th>\n",
       "    </tr>\n",
       "    <tr>\n",
       "      <th>dayofweek</th>\n",
       "      <th></th>\n",
       "      <th></th>\n",
       "    </tr>\n",
       "  </thead>\n",
       "  <tbody>\n",
       "    <tr>\n",
       "      <th>0</th>\n",
       "      <td>3780</td>\n",
       "      <td>4624</td>\n",
       "    </tr>\n",
       "    <tr>\n",
       "      <th>1</th>\n",
       "      <td>3727</td>\n",
       "      <td>3242</td>\n",
       "    </tr>\n",
       "    <tr>\n",
       "      <th>2</th>\n",
       "      <td>3861</td>\n",
       "      <td>3448</td>\n",
       "    </tr>\n",
       "    <tr>\n",
       "      <th>3</th>\n",
       "      <td>3676</td>\n",
       "      <td>3212</td>\n",
       "    </tr>\n",
       "    <tr>\n",
       "      <th>4</th>\n",
       "      <td>4279</td>\n",
       "      <td>3395</td>\n",
       "    </tr>\n",
       "  </tbody>\n",
       "</table>\n",
       "</div>"
      ],
      "text/plain": [
       "           False  True \n",
       "dayofweek              \n",
       "0           3780   4624\n",
       "1           3727   3242\n",
       "2           3861   3448\n",
       "3           3676   3212\n",
       "4           4279   3395"
      ]
     },
     "execution_count": 28,
     "metadata": {},
     "output_type": "execute_result"
    }
   ],
   "source": [
    "collByDay.head()"
   ]
  },
  {
   "cell_type": "code",
   "execution_count": 29,
   "metadata": {
    "collapsed": true
   },
   "outputs": [],
   "source": [
    "# Get trash collection count by month\n",
    "collByMonth = dfGroupedByMonth['collection'].value_counts().unstack().fillna(0.)"
   ]
  },
  {
   "cell_type": "code",
   "execution_count": 30,
   "metadata": {
    "collapsed": false
   },
   "outputs": [
    {
     "data": {
      "text/html": [
       "<div style=\"max-height:1000px;max-width:1500px;overflow:auto;\">\n",
       "<table border=\"1\" class=\"dataframe\">\n",
       "  <thead>\n",
       "    <tr style=\"text-align: right;\">\n",
       "      <th></th>\n",
       "      <th>False</th>\n",
       "      <th>True</th>\n",
       "    </tr>\n",
       "    <tr>\n",
       "      <th>month</th>\n",
       "      <th></th>\n",
       "      <th></th>\n",
       "    </tr>\n",
       "  </thead>\n",
       "  <tbody>\n",
       "    <tr>\n",
       "      <th>1</th>\n",
       "      <td>1600</td>\n",
       "      <td>1287</td>\n",
       "    </tr>\n",
       "    <tr>\n",
       "      <th>2</th>\n",
       "      <td>1382</td>\n",
       "      <td>1075</td>\n",
       "    </tr>\n",
       "    <tr>\n",
       "      <th>3</th>\n",
       "      <td>1836</td>\n",
       "      <td>1517</td>\n",
       "    </tr>\n",
       "    <tr>\n",
       "      <th>4</th>\n",
       "      <td>2089</td>\n",
       "      <td>1708</td>\n",
       "    </tr>\n",
       "    <tr>\n",
       "      <th>5</th>\n",
       "      <td>2428</td>\n",
       "      <td>2043</td>\n",
       "    </tr>\n",
       "  </tbody>\n",
       "</table>\n",
       "</div>"
      ],
      "text/plain": [
       "       False  True \n",
       "month              \n",
       "1       1600   1287\n",
       "2       1382   1075\n",
       "3       1836   1517\n",
       "4       2089   1708\n",
       "5       2428   2043"
      ]
     },
     "execution_count": 30,
     "metadata": {},
     "output_type": "execute_result"
    }
   ],
   "source": [
    "collByMonth.head()"
   ]
  },
  {
   "cell_type": "code",
   "execution_count": 31,
   "metadata": {
    "collapsed": true
   },
   "outputs": [],
   "source": [
    "# Save the derived data to csv files\n",
    "fullnessByDay.to_csv('../data/alertsByDay.csv', index=False)\n",
    "fullnessByMonth.to_csv('../data/alertsByMonth.csv', index=False)\n",
    "collByMonth.to_csv('../data/collByMonth.csv', index=False)\n",
    "collByDay.to_csv('../data/collByDay.csv', index=False)"
   ]
  },
  {
   "cell_type": "code",
   "execution_count": null,
   "metadata": {
    "collapsed": true
   },
   "outputs": [],
   "source": []
  }
 ],
 "metadata": {
  "kernelspec": {
   "display_name": "Python 2",
   "language": "python",
   "name": "python2"
  },
  "language_info": {
   "codemirror_mode": {
    "name": "ipython",
    "version": 2
   },
   "file_extension": ".py",
   "mimetype": "text/x-python",
   "name": "python",
   "nbconvert_exporter": "python",
   "pygments_lexer": "ipython2",
   "version": "2.7.10"
  }
 },
 "nbformat": 4,
 "nbformat_minor": 0
}
